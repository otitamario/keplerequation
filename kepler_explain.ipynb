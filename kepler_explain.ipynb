{
  "nbformat": 4,
  "nbformat_minor": 0,
  "metadata": {
    "colab": {
      "name": "kepler_explain.ipynb",
      "provenance": [],
      "collapsed_sections": []
    },
    "kernelspec": {
      "name": "python3",
      "display_name": "Python 3"
    },
    "language_info": {
      "name": "python"
    }
  },
  "cells": [
    {
      "cell_type": "code",
      "execution_count": null,
      "metadata": {
        "id": "6OQ9E_lxqTVz"
      },
      "outputs": [],
      "source": []
    },
    {
      "cell_type": "markdown",
      "source": [
        "# **Kepler's equation**"
      ],
      "metadata": {
        "id": "0QMtuyeGxUNx"
      }
    },
    {
      "cell_type": "markdown",
      "source": [
        "\n",
        "In celestial mechanics, Kepler's equation can be used to determine the position of an object in an elliptical orbit. This nonlinear equation is:\n",
        "$$ \\omega -\\epsilon \\sin (\\omega )=t,$$\n",
        "where \n",
        "\n",
        "$\\epsilon = \\sqrt{1-\\frac{b^2}{a^2}}$,\n",
        "is the orbital eccentricity of the object,\n",
        "\n",
        "t is proportional to time , and \n",
        "\n",
        "$\\omega$ is the angle of the object around its elliptical orbit.\n",
        "\n",
        "In this problem, we will use the parameters $a = 1.0$ and $b = 0.5$ to define the orbit of our\n",
        "object. We wish to solve this equation to find the angle $\\omega$ at various moments in time.\n",
        "\n",
        "First, determine a nonlinear function $f(\\omega)$ that you can use to solve this equation \n",
        "for $\\omega$; also determine its derivative function $f^{\\prime}(\\omega)$.$\n",
        "\n",
        "and a routine that performs the following tasks. For each time $t = \\{0.0, 0.001, \\cdots ,8.999, 9.0\\}$:\n",
        "\n",
        "We use the Newton's method to solve Kepler's equation for $\\omega(t)$.\n",
        "\n",
        "Each solution must use a tolerance of $10^{-4}$, a maximum of 5 Newton iterations, and must disable the iteration output\n",
        "of the information to the screen (after all, you are solving thousands of nonlinear problems). A\n",
        "initial estimate for each solution should be the solution of the previous value of t (for the\n",
        "first solution solve with an initial estimate of 0).     \n",
        "\n",
        "Using the formula for the radial position of an object at angle $$\n",
        "r(\\omega)=\\dfrac{ab}{\\sqrt{(b\\cos(\\omega(t)))^2+(a\\sin(\\omega(t)))^2}}\n",
        "$$\n",
        "\n",
        "calculate the Cartesian coordinates of the object, $x(t) = r(t) \\cos(\\omega(t))$ and $y(t) = r(t) \\sin(\\omega(t))$\n",
        "\n",
        "Saving the values of $t$, $x(t)$ and $y(t)$ and using the matplotlib library we will create the graph: $x(t)$ vs $y(t)$\n",
        "\n"
      ],
      "metadata": {
        "id": "N3lZDKxDrMfV"
      }
    },
    {
      "cell_type": "code",
      "source": [
        "# -*- coding: utf-8 -*-\n",
        "import matplotlib.pyplot as plt\n",
        "from math import *\n",
        "from numpy import *\n",
        "w = zeros(9001, dtype = float)\n",
        "t_0 = zeros(9001, dtype = float)\n",
        "x_t = zeros(9001, dtype = float)\n",
        "y_t = zeros(9001, dtype = float)\n",
        "a = 0\n",
        "h = 0.001\n",
        "def f(x):\n",
        "  e = (1-0.25)**(1/2)\n",
        "  aux = x - e*sin(x) \n",
        "  return aux\n",
        "def df(x):\n",
        "  e = (1-0.25)**(1/2)\n",
        "  aux_1 = 1 - e*cos(x)\n",
        "  return aux_1\n",
        "def q(x):\n",
        "  aux_2 = (0.5)/((0.25*cos(x))**2 + sin(x)**2)**(1/2)\n",
        "  return aux_2\n",
        "for k in range(9001):\n",
        "  t = a + k*h\n",
        "  t_0[k] = t\n",
        "  w_0 = 0 \n",
        "  TOL=10**(-4)\n",
        "  NMAX=5\n",
        "  i=1\n",
        "  while i <=NMAX:\n",
        "    p = w_0 - (f(w_0)-t)/df(w_0)\n",
        "    if abs(p - w_0)<TOL or abs(f(p))<TOL:\n",
        "      break\n",
        "    i=i+1 \n",
        "    w_0 = p\n",
        "    w[k] = p\n",
        "  r = (0.5)/((0.25*cos(p))**2 + sin(p)**2)**(0.5)\n",
        "  pos_x = r*cos(p)\n",
        "  pos_y = r*sin(p)\n",
        "  x_t[k] = pos_x\n",
        "  y_t[k] = pos_y\n",
        "\n",
        "print(x_t)\n",
        "print(y_t)\n",
        "print(w)\n",
        "print(t_0)\n",
        "plt.title('grafico 3')\n",
        "plt.scatter(y_t,x_t)\n",
        "plt.show()"
      ],
      "metadata": {
        "colab": {
          "base_uri": "https://localhost:8080/",
          "height": 409
        },
        "id": "f5vv9qP_vW4e",
        "outputId": "5d77b2e7-bf55-41ef-acc5-4b61b68b2adc"
      },
      "execution_count": 1,
      "outputs": [
        {
          "output_type": "stream",
          "name": "stdout",
          "text": [
            "[ 2.          1.99910926  1.99644506 ... -0.63956162  1.24066974\n",
            " -0.25419589]\n",
            "[ 0.          0.01492094  0.0297984  ...  0.47374577  0.39216854\n",
            " -0.49594509]\n",
            "[0.00000000e+00 7.46410162e-03 1.49282032e-02 ... 8.78723277e+00\n",
            " 6.58934127e+00 4.23875307e+00]\n",
            "[0.000e+00 1.000e-03 2.000e-03 ... 8.998e+00 8.999e+00 9.000e+00]\n"
          ]
        },
        {
          "output_type": "display_data",
          "data": {
            "text/plain": [
              "<Figure size 432x288 with 1 Axes>"
            ],
            "image/png": "[encoded data removed]"
          },
          "metadata": {
            "needs_background": "light"
          }
        }
      ]
    }
  ]
}